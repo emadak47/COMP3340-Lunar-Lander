{
 "cells": [
  {
   "cell_type": "code",
   "execution_count": 1,
   "metadata": {},
   "outputs": [
    {
     "name": "stderr",
     "output_type": "stream",
     "text": [
      "\n"
     ]
    }
   ],
   "source": [
    "import gym\n",
    "import numpy as np\n",
    "import random\n",
    "from tensorflow.keras import Sequential\n",
    "from tensorflow.keras.layers import Dense \n",
    "from tensorflow.keras.activations import relu, linear \n",
    "from tensorflow.keras.optimizers import Adam\n",
    "from tensorflow.keras.losses import mean_squared_error"
   ]
  },
  {
   "cell_type": "code",
   "execution_count": 2,
   "metadata": {},
   "outputs": [],
   "source": [
    "from collections import deque\n",
    "from constants import __DQN_CONST__\n",
    "from constants import __NUM_EPISODES__"
   ]
  },
  {
   "cell_type": "code",
   "execution_count": 3,
   "metadata": {},
   "outputs": [],
   "source": [
    "class DQN:\n",
    "    def __init__(self, env, _para):\n",
    "        self.env = env\n",
    "        self.action_space = env.action_space\n",
    "        self.observation_space = env.observation_space\n",
    "        \n",
    "        self.size_observation_space = self.observation_space.shape[0]\n",
    "        \n",
    "        self.lr = _para[\"LR\"]\n",
    "        self.gamma = _para[\"GAMMA\"]\n",
    "        self.epsilon = _para[\"EPSILON\"]\n",
    "        self.decay = _para[\"DECAY\"]\n",
    "        self.batch_size = _para[\"BATCH_SIZE\"]\n",
    "        self.min_epsilon = _para[\"MIN_EPSILON\"]\n",
    "        \n",
    "        self.replay_memory = deque(maxlen=500000)\n",
    "        self.model = self._create_model()\n",
    "        \n",
    "    def _create_model(self):\n",
    "        model = Sequential()\n",
    "        \n",
    "        model.add(Dense(512, input_dim=self.size_observation_space, activation=relu))\n",
    "        model.add(Dense(256, activation=relu))\n",
    "        model.add(Dense(self.action_space.n, activation=linear))\n",
    "\n",
    "        model.compile(loss=mean_squared_error,optimizer=Adam(lr=self.lr))\n",
    "\n",
    "        print(model.summary())\n",
    "        return model\n",
    "    \n",
    "    \n",
    "    def _sample_from_replay_memory(self):\n",
    "        random_sample = random.sample(self.replay_memory, self.batch_size)\n",
    "        \n",
    "        states = np.array([i[0] for i in random_sample])\n",
    "        actions = np.array([i[1] for i in random_sample])\n",
    "        rewards = np.array([i[2] for i in random_sample])\n",
    "        next_states = np.array([i[3] for i in random_sample])\n",
    "        done_list = np.array([i[4] for i in random_sample])\n",
    "        \n",
    "        states = np.squeeze(states)\n",
    "        next_states = np.squeeze(next_states)\n",
    "        \n",
    "        return states, actions, rewards, next_states, done_list\n",
    "            \n",
    "    def _predict_next_state_and_fit(self, states, actions, rewards, next_states, done_list):\n",
    "        q_table_values = self.model.predict_on_batch(next_states)\n",
    "        q_table_targets = self.model.predict_on_batch(states)\n",
    "        max_q_values_next_state = np.amax(q_table_values, axis=1)\n",
    "        \n",
    "        q_table_targets[np.arange(self.batch_size), actions] = rewards + self.gamma * (max_q_values_next_state) * (1 - done_list)\n",
    "        self.model.fit(states, q_table_targets, verbose=0)\n",
    "    \n",
    "    def train(self, num_episodes):\n",
    "        for episode in range(400):\n",
    "            state = env.reset()\n",
    "            reward_episode = 0\n",
    "            \n",
    "            num_time_steps = 1000\n",
    "            for _ in range(num_time_steps):\n",
    "#                 env.render()\n",
    "                state = np.reshape(state, (1, 8))\n",
    "                # Exploration v/s Exploitation\n",
    "                if (np.random.random() <= self.epsilon):\n",
    "                    action = random.randrange(self.action_space.n)\n",
    "                else:\n",
    "                    q_table_values = self.model.predict(state)\n",
    "                    action = np.argmax(q_table_values[0])\n",
    "                    \n",
    "                next_state, reward, done, metadata = env.step(action)\n",
    "                next_state = np.reshape(next_state, [1, self.size_observation_space])\n",
    "                \n",
    "                self.replay_memory.append((state, action, reward, next_state, done))\n",
    "                \n",
    "                if (len(self.replay_memory) >= self.batch_size):\n",
    "                    random_sample = self._sample_from_replay_memory()\n",
    "                    self._predict_next_state_and_fit(*random_sample)\n",
    "                    \n",
    "                    if self.epsilon > self.min_epsilon:\n",
    "                        self.epsilon *= self.decay\n",
    "                \n",
    "                reward_episode += reward\n",
    "                state = next_state\n",
    "                \n",
    "                if (done):\n",
    "                    print(\"Episode = {}, Score = {}\".format(episode, reward))\n",
    "                    break\n"
   ]
  },
  {
   "cell_type": "code",
   "execution_count": null,
   "metadata": {},
   "outputs": [
    {
     "name": "stdout",
     "output_type": "stream",
     "text": [
      "Model: \"sequential\"\n",
      "_________________________________________________________________\n",
      " Layer (type)                Output Shape              Param #   \n",
      "=================================================================\n",
      " dense (Dense)               (None, 512)               4608      \n",
      "                                                                 \n",
      " dense_1 (Dense)             (None, 256)               131328    \n",
      "                                                                 \n",
      " dense_2 (Dense)             (None, 4)                 1028      \n",
      "                                                                 \n",
      "=================================================================\n",
      "Total params: 136,964\n",
      "Trainable params: 136,964\n",
      "Non-trainable params: 0\n",
      "_________________________________________________________________\n"
     ]
    },
    {
     "name": "stderr",
     "output_type": "stream",
     "text": [
      "/userhome/30/ujain/anaconda3/envs/comp3340gpp/lib/python3.7/site-packages/keras/optimizer_v2/adam.py:105: UserWarning: The `lr` argument is deprecated, use `learning_rate` instead.\n",
      "  super(Adam, self).__init__(name, **kwargs)\n"
     ]
    },
    {
     "name": "stdout",
     "output_type": "stream",
     "text": [
      "None\n",
      "Episode = 0, Score = -100\n",
      "Episode = 1, Score = -100\n",
      "Episode = 2, Score = -100\n",
      "Episode = 3, Score = -100\n",
      "Episode = 4, Score = -100\n",
      "Episode = 5, Score = -100\n",
      "Episode = 6, Score = -100\n",
      "Episode = 7, Score = -100\n",
      "Episode = 8, Score = -100\n",
      "Episode = 9, Score = -100\n",
      "Episode = 10, Score = -100\n",
      "Episode = 11, Score = -100\n",
      "Episode = 12, Score = -100\n",
      "Episode = 13, Score = -0.6006039004281434\n",
      "Episode = 14, Score = -100\n",
      "Episode = 15, Score = -100\n",
      "Episode = 16, Score = -100\n"
     ]
    }
   ],
   "source": [
    "if __name__ == '__main__':\n",
    "    env = gym.make('LunarLander-v2')\n",
    "    \n",
    "    env.seed(1339)\n",
    "    np.random.seed(1339)\n",
    "    \n",
    "    model = DQN(env, __DQN_CONST__)\n",
    "    model.train(__NUM_EPISODES__)\n",
    "    "
   ]
  },
  {
   "cell_type": "code",
   "execution_count": null,
   "metadata": {},
   "outputs": [],
   "source": []
  },
  {
   "cell_type": "code",
   "execution_count": null,
   "metadata": {},
   "outputs": [],
   "source": []
  }
 ],
 "metadata": {
  "kernelspec": {
   "display_name": "Python [conda env:comp3340gpp]",
   "language": "python",
   "name": "conda-env-comp3340gpp-py"
  },
  "language_info": {
   "codemirror_mode": {
    "name": "ipython",
    "version": 3
   },
   "file_extension": ".py",
   "mimetype": "text/x-python",
   "name": "python",
   "nbconvert_exporter": "python",
   "pygments_lexer": "ipython3",
   "version": "3.7.11"
  }
 },
 "nbformat": 4,
 "nbformat_minor": 4
}
